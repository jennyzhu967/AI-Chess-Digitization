{
 "cells": [
  {
   "cell_type": "markdown",
   "id": "8a0dccbb-0a2d-4d41-b28f-4f107dc64f2f",
   "metadata": {},
   "source": [
    "### Resizing Image to Fit Screen"
   ]
  },
  {
   "cell_type": "code",
   "execution_count": 17,
   "id": "90a66ea1-be01-4e4a-9607-52581a7f9408",
   "metadata": {},
   "outputs": [
    {
     "name": "stdout",
     "output_type": "stream",
     "text": [
      "Screen Width: 1920, Screen Height: 1200\n",
      "Original Height: 3362, Original Width: 2918, Original Channels: 3\n",
      "\n",
      "Resizing image to:  (2334, 2689)\n",
      "\n",
      "Resizing image to:  (1867, 2151)\n",
      "\n",
      "Resizing image to:  (1493, 1720)\n",
      "\n",
      "Resizing image to:  (1194, 1376)\n",
      "\n",
      "Resizing image to:  (955, 1100)\n",
      "\n"
     ]
    }
   ],
   "source": [
    "import pyautogui\n",
    "import cv2\n",
    "\n",
    "image_path = \"C:/Users/ericz/Mouse Clicker/Games/TyshauneSophie2.png\"\n",
    "#image_path = \"C:/Users/ericz/Mouse Clicker/Games/badSheet.jpg\"\n",
    "image = cv2.imread(image_path)\n",
    "\n",
    "screen_width, screen_height = pyautogui.size()\n",
    "print(f\"Screen Width: {screen_width}, Screen Height: {screen_height}\")\n",
    "\n",
    "image_height, image_width, color_channels = image.shape\n",
    "print(f\"Original Height: {image_height}, Original Width: {image_width}, Original Channels: {color_channels}\\n\")\n",
    "\n",
    "resize_metric = 0.8\n",
    "while True:\n",
    "    if (image_height < screen_height and image_width < screen_width):\n",
    "        break\n",
    "\n",
    "    image_width = int(image_width * resize_metric)\n",
    "    image_height = int(image_height * resize_metric)\n",
    "    print(\"Resizing image to:  ({}, {})\\n\".format(image_width, image_height))\n",
    "\n",
    "    image = cv2.resize(image,(image_width, image_height))\n",
    "\n",
    "# cv2.imshow(\"image\", image)\n",
    "# cv2.waitKey(0)\n",
    "# cv2.destroyAllWindows()"
   ]
  },
  {
   "cell_type": "markdown",
   "id": "9041006e-867b-4f17-8120-0e3988b90477",
   "metadata": {},
   "source": [
    "### Click Corners"
   ]
  },
  {
   "cell_type": "code",
   "execution_count": 13,
   "id": "7111d196-592b-4afc-89f0-d7bc089b12a1",
   "metadata": {
    "scrolled": true
   },
   "outputs": [
    {
     "name": "stdout",
     "output_type": "stream",
     "text": [
      "32 , 43\n",
      "261 , 42\n",
      "257 , 1075\n",
      "13 , 1074\n"
     ]
    }
   ],
   "source": [
    "global click_list \n",
    "click_list =[]\n",
    "\n",
    "def click_event(event, x, y, flags, params):\n",
    "    if event == cv2.EVENT_LBUTTONDOWN:\n",
    "        print(x, ',', y) \n",
    "        # clicked_image = cv2.circle(img = image, \n",
    "        #                            center = (x,y), \n",
    "        #                            radius = 7, \n",
    "        #                            color = (0,0,255), \n",
    "        #                            thickness = -2)\n",
    "        click_list.append([x,y])\n",
    "\n",
    "cv2.imshow(\"image\", image)\n",
    "clicked_image = image\n",
    "cv2.setMouseCallback(\"image\", click_event)\n",
    "\n",
    "cv2.waitKey(0)\n",
    "cv2.destroyAllWindows()\n",
    "# NOTICE ME: after you finish click, check the top and botton horizontal lines and make sure they are perfectly included and aligne"
   ]
  },
  {
   "cell_type": "code",
   "execution_count": 10,
   "id": "4e2ad116-a020-41a2-93ba-909db9d97550",
   "metadata": {},
   "outputs": [],
   "source": [
    "cv2.imshow(\"image\", clicked_image)\n",
    "\n",
    "cv2.waitKey(0)\n",
    "cv2.destroyAllWindows()"
   ]
  },
  {
   "cell_type": "code",
   "execution_count": 18,
   "id": "e3412c76-ebbf-4548-8a80-5f6579c361af",
   "metadata": {},
   "outputs": [],
   "source": [
    "# hard coded click_list\n",
    "# click_list = [[112 , 310], [246 , 310], [250 , 967], [116 , 971]]\n",
    "# click_list = [[112 , 310], [246 , 310], [250 , 969], [116 , 971]] # changed 967 to 969\n",
    "click_list = [[32 , 43], [261 , 42], [257 , 1075], [13 , 1074]] # for Andrew Sophie\n",
    "#click_list = [[90 , 271], [240 , 254], [486 , 903], [278 , 984]] # For badSheet.jpg"
   ]
  },
  {
   "cell_type": "markdown",
   "id": "441de07c-d5cd-4789-bef4-9c5d3acb1025",
   "metadata": {},
   "source": [
    "### Logistics\n",
    "* Game number, move number, player, etc."
   ]
  },
  {
   "cell_type": "code",
   "execution_count": 19,
   "id": "01234b8a-e60c-4fd4-99c9-edf0f54901d2",
   "metadata": {},
   "outputs": [],
   "source": [
    "from torchvision.transforms.functional import autocontrast\n",
    "import numpy as np\n",
    "\n",
    "# constants (these will not change)\n",
    "H_SIZE = 30\n",
    "page = \"0\"  \n",
    "\n",
    "gameNumber = \"004\" # change this for different games\n",
    "player = \"white\" # change for white and black\n",
    "move = 1 # change to 30 when different row\n",
    "\n",
    "topLeft = [click_list[0][0], click_list[0][1]] # type list for the upper left x and y points\n",
    "topRight = [click_list[1][0], click_list[1][1]] # upper right x and y points in a list [x, y]\n",
    "bottomRight = [click_list[2][0], click_list[2][1]]\n",
    "bottomLeft = [click_list[3][0], click_list[3][1]]"
   ]
  },
  {
   "cell_type": "markdown",
   "id": "d92cee83-f910-4ad8-b95d-c51a3a536cf7",
   "metadata": {},
   "source": [
    "### Main\n",
    "* This code will extract cells"
   ]
  },
  {
   "cell_type": "code",
   "execution_count": 20,
   "id": "59eb965c-07e4-4cd5-a7d6-2cd4bf7fe1e8",
   "metadata": {},
   "outputs": [],
   "source": [
    "# New code\n",
    "import numpy as np\n",
    "frame = np.copy(image)\n",
    "\n",
    "# Perspective transformation\n",
    "pts1 = np.float32([topLeft, topRight, bottomLeft, bottomRight])\n",
    "pts2 = np.float32([[0, 0], [240 - 90, 0], [0, 600], [240 - 90, 600]]) # nice rec shape, y dividableby 30\n",
    "matrix = cv2.getPerspectiveTransform(pts1, pts2)\n",
    "warpedImage = cv2.warpPerspective(frame, matrix, (240 - 90, 600))\n",
    "\n",
    "# The below is for badSheet.jpg\n",
    "# New one: click_list = [[90 , 271], [240 , 254], [486 , 903], [278 , 984]]\n",
    "# pts1 = np.float32([topLeft, topRight, bottomLeft, bottomRight])\n",
    "# pts2 = np.float32([[0, 0], [240 - 90, 0], [0, 600], [240 - 90, 600]])\n",
    "# matrix = cv2.getPerspectiveTransform(pts1, pts2)\n",
    "# warpedImage = cv2.warpPerspective(frame, matrix, (240 - 90, 600))"
   ]
  },
  {
   "cell_type": "code",
   "execution_count": 6,
   "id": "001ad8e1-cf21-421b-83a4-72aae6e2f436",
   "metadata": {},
   "outputs": [],
   "source": [
    "# Display purpose, can be removed\n",
    "cv2.imshow('warpedImage', warpedImage)\n",
    "cv2.waitKey(0)\n",
    "cv2.destroyAllWindows()"
   ]
  },
  {
   "cell_type": "code",
   "execution_count": 21,
   "id": "a50acaf2-42ba-4f4b-bc4b-5e3197657c38",
   "metadata": {},
   "outputs": [
    {
     "name": "stdout",
     "output_type": "stream",
     "text": [
      "[[0, 578], [0, 601], [150, 601], [150, 578]]\n",
      "[[0, 558], [0, 580], [150, 580], [150, 558]]\n",
      "[[0, 538], [0, 560], [150, 560], [150, 538]]\n",
      "[[0, 518], [0, 540], [150, 540], [150, 518]]\n",
      "[[0, 498], [0, 520], [150, 520], [150, 498]]\n",
      "[[0, 478], [0, 500], [150, 500], [150, 478]]\n",
      "[[0, 458], [0, 480], [150, 480], [150, 458]]\n",
      "[[0, 438], [0, 460], [150, 460], [150, 438]]\n",
      "[[0, 418], [0, 440], [150, 440], [150, 418]]\n",
      "[[0, 398], [0, 420], [150, 420], [150, 398]]\n",
      "[[0, 378], [0, 400], [150, 400], [150, 378]]\n",
      "[[0, 358], [0, 380], [150, 380], [150, 358]]\n",
      "[[0, 338], [0, 360], [150, 360], [150, 338]]\n",
      "[[0, 318], [0, 340], [150, 340], [150, 318]]\n",
      "[[0, 298], [0, 320], [150, 320], [150, 298]]\n",
      "[[0, 278], [0, 300], [150, 300], [150, 278]]\n",
      "[[0, 258], [0, 280], [150, 280], [150, 258]]\n",
      "[[0, 238], [0, 260], [150, 260], [150, 238]]\n",
      "[[0, 218], [0, 240], [150, 240], [150, 218]]\n",
      "[[0, 198], [0, 220], [150, 220], [150, 198]]\n",
      "[[0, 178], [0, 200], [150, 200], [150, 178]]\n",
      "[[0, 158], [0, 180], [150, 180], [150, 158]]\n",
      "[[0, 138], [0, 160], [150, 160], [150, 138]]\n",
      "[[0, 118], [0, 140], [150, 140], [150, 118]]\n",
      "[[0, 98], [0, 120], [150, 120], [150, 98]]\n",
      "[[0, 78], [0, 100], [150, 100], [150, 78]]\n",
      "[[0, 58], [0, 80], [150, 80], [150, 58]]\n",
      "[[0, 38], [0, 60], [150, 60], [150, 38]]\n",
      "[[0, 18], [0, 40], [150, 40], [150, 18]]\n",
      "[[0, 0], [0, 20], [150, 20], [150, 0]]\n",
      "We ended bottom Left: [0, -1]\n",
      "Theretical bottom Left: [13, 1074] \n",
      "\n",
      "We ended bottom Right: [150, -1]\n",
      "Theretical bottom Right: [257, 1075]\n"
     ]
    }
   ],
   "source": [
    "# New code\n",
    "import os\n",
    "\n",
    "xLen = 240 - 90\n",
    "yLen = 600\n",
    "yDelta = round(yLen / H_SIZE)\n",
    "yBuffer = 1 # Leave some buffer room\n",
    "previousbottomLeftPoints = [0, yLen]\n",
    "previousbottomRightPoints = [xLen, yLen]\n",
    "bottomLeftPoints = [0, previousbottomLeftPoints[1] - yDelta - yBuffer]\n",
    "bottomRightPoints = [xLen, previousbottomRightPoints[1] - yDelta - yBuffer]\n",
    "\n",
    "for ih in range(H_SIZE):\n",
    "    # calculate coordinates for bottom left and right\n",
    "    bottomLeftPointsAdj = [bottomLeftPoints[0], max(0, bottomLeftPoints[1] - yBuffer)]\n",
    "    previousbottomLeftPointsAdj = [previousbottomLeftPoints[0], previousbottomLeftPoints[1] + yBuffer]\n",
    "    previousbottomRightPointsAdj = [previousbottomRightPoints[0], previousbottomRightPoints[1] + yBuffer]\n",
    "    bottomRightPointsAdj = [bottomRightPoints[0], max(0, bottomRightPoints[1] - yBuffer)]\n",
    "    points = [bottomLeftPointsAdj, previousbottomLeftPointsAdj, previousbottomRightPointsAdj, bottomRightPointsAdj]\n",
    "    print(points)\n",
    "    points = np.array(points)\n",
    "    points = points.astype(int)\n",
    "\n",
    "    rect = cv2.minAreaRect(points) # draw the minumum rectangle possible with these points\n",
    "    box = cv2.boxPoints(rect) # get the coordinates\n",
    "    # returns lowest point and goes clockwise\n",
    "    box = np.intp(box)\n",
    "\n",
    "    # show images\n",
    "\n",
    "    # new_image = cv2.drawContours(warpedImage, [box], 0, (0,0,255),1) # contour the box\n",
    "    # cv2.imshow(\"cropped image\",new_image)\n",
    "    # cv2.waitKey(0)\n",
    "    # cv2.destroyAllWindows()\n",
    "    \n",
    "    name = gameNumber + \"_\" + page + \"_\" + str(move) + \"_\" +player+ \".png\"\n",
    "    directory = \"C:/Users/ericz/Mouse Clicker/test\"\n",
    "    SAVED_PATH = os.path.join(directory, name).replace(\"\\\\\", \"/\")\n",
    "    save_image = warpedImage[bottomLeftPointsAdj[1] : previousbottomLeftPointsAdj[1], 0 : previousbottomRightPointsAdj[0]]\n",
    "    cv2.imwrite(SAVED_PATH, save_image)\n",
    "    \n",
    "    move+=1\n",
    "    \n",
    "    previousbottomLeftPoints = bottomLeftPoints\n",
    "    previousbottomRightPoints = bottomRightPoints\n",
    "    bottomLeftPoints = [0, previousbottomLeftPoints[1] - yDelta]\n",
    "    bottomRightPoints = [xLen, previousbottomRightPoints[1] - yDelta]    \n",
    "    \n",
    "    if ih == 29:\n",
    "        print(f\"We ended bottom Left: {previousbottomLeftPoints}\")\n",
    "        print(f\"Theretical bottom Left: {click_list[3]} \\n\")\n",
    "\n",
    "        print(f\"We ended bottom Right: {previousbottomRightPoints}\")\n",
    "        print(f\"Theretical bottom Right: {click_list[2]}\")\n",
    "        break"
   ]
  }
 ],
 "metadata": {
  "kernelspec": {
   "display_name": "Python 3 (ipykernel)",
   "language": "python",
   "name": "python3"
  },
  "language_info": {
   "codemirror_mode": {
    "name": "ipython",
    "version": 3
   },
   "file_extension": ".py",
   "mimetype": "text/x-python",
   "name": "python",
   "nbconvert_exporter": "python",
   "pygments_lexer": "ipython3",
   "version": "3.9.13"
  }
 },
 "nbformat": 4,
 "nbformat_minor": 5
}
